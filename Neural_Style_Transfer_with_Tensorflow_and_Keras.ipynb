{
  "nbformat": 4,
  "nbformat_minor": 0,
  "metadata": {
    "colab": {
      "provenance": []
    },
    "kernelspec": {
      "name": "python3",
      "display_name": "Python 3"
    },
    "language_info": {
      "name": "python"
    }
  },
  "cells": [
    {
      "cell_type": "code",
      "execution_count": 1,
      "metadata": {
        "id": "2T0mzj48kF49"
      },
      "outputs": [],
      "source": [
        "import matplotlib.pyplot as plt\n",
        "import numpy\n",
        "import cv2\n",
        "\n",
        "import tensorflow as tf\n",
        "from tensorflow import keras\n",
        "from tensorflow.keras.applications import VGG19\n",
        "from tensorflow.keras.models import Model"
      ]
    },
    {
      "cell_type": "code",
      "source": [
        "def create_content_model(model = None, layer_name = None, layer_index = None):\n",
        "\n",
        "    content_model = Model(inputs = model.input, outputs = model.get_layer(layer_name).output)\n",
        "    \n",
        "    return content_model"
      ],
      "metadata": {
        "id": "IfBr5wxR1Kxh"
      },
      "execution_count": 2,
      "outputs": []
    },
    {
      "cell_type": "code",
      "source": [
        "def create_style_model(model = None, layer_names = None):\n",
        "    outputs = [model.get_layer(layer_name).output for layer_name in layer_names]\n",
        "    style_model = Model(inputs = model.input, outputs = outputs)\n",
        "    return style_model"
      ],
      "metadata": {
        "id": "uUHRLDSn4EWi"
      },
      "execution_count": 3,
      "outputs": []
    },
    {
      "cell_type": "code",
      "source": [
        "def content_cost(content_model, content_img, generated_img):\n",
        "    # Add a preprocess imgs for content and generated here\n",
        "    #...\n",
        "\n",
        "    # get the content image & generated img activations\n",
        "    a_c = content_model(content_img)\n",
        "    a_g = content_model(generated_img)\n",
        "\n",
        "    cost = tf.reduce_mean(tf.square(a_c - a_g))\n",
        "\n",
        "    return cost\n",
        "\n"
      ],
      "metadata": {
        "id": "cRUvzfgCktUz"
      },
      "execution_count": 4,
      "outputs": []
    },
    {
      "cell_type": "code",
      "source": [
        "def calculate_gram(activation = None):\n",
        "\n",
        "    # Get activation dimensions\n",
        "    _,height, width, channels = activation.shape\n",
        "\n",
        "    # Unroll the activation/layer output\n",
        "    a_unrolled = tf.reshape(activation, shape = [height * width, channels])\n",
        "    gram = tf.matmul(a_unrolled, tf.transpose(a_unrolled))\n",
        "    print(gram.shape)"
      ],
      "metadata": {
        "id": "OxWLeTjCPToi"
      },
      "execution_count": 5,
      "outputs": []
    },
    {
      "cell_type": "code",
      "source": [
        "def layer_style_cost(gram_s, gram_g):\n",
        "\n",
        "    cost = tf.reduce_mean(tf.square(gram_s - gram_g))\n",
        "    cost = cost / 4\n",
        "    return cost"
      ],
      "metadata": {
        "id": "mBp1KvwYqg_w"
      },
      "execution_count": 6,
      "outputs": []
    },
    {
      "cell_type": "code",
      "source": [
        "def style_cost(style_activations = None, generated_activations = None, layer_weights = None):\n",
        "\n",
        "    current_cost = 0\n",
        "    if layer_weights == None:\n",
        "        layer_weights = [1. for layer in style_activations]\n",
        "\n",
        "    for style_activation, generated_activation, weight in zip(style_activations, generated_activations, layer_weights):\n",
        "        gram_g = calculate_gram(generated_activation)\n",
        "        gram_s = calculate_gram(style_activation)\n",
        "        current_cost += weight * layer_style_cost(gram_s, gram_g)\n",
        "    \n",
        "    cost = current_cost / len(style_activations)\n",
        "    return cost\n",
        "\n",
        "\n",
        "\n"
      ],
      "metadata": {
        "id": "DpSV963ovG49"
      },
      "execution_count": 7,
      "outputs": []
    },
    {
      "cell_type": "code",
      "source": [
        "def train_loop(content_img, style_img, style_model = None, content_model = None, epochs = 30 ):\n",
        "    pass"
      ],
      "metadata": {
        "id": "u1knVCfi49TR"
      },
      "execution_count": 8,
      "outputs": []
    },
    {
      "cell_type": "code",
      "source": [
        "model = VGG19(input_shape = (128, 128, 3), include_top= False, weights = 'imagenet')\n",
        "model.trainable = False\n",
        "model.summary()"
      ],
      "metadata": {
        "colab": {
          "base_uri": "https://localhost:8080/"
        },
        "id": "d3vrGPsdeK-0",
        "outputId": "75e3a13e-fc5d-4537-c917-919f4864e82e"
      },
      "execution_count": 9,
      "outputs": [
        {
          "output_type": "stream",
          "name": "stdout",
          "text": [
            "Downloading data from https://storage.googleapis.com/tensorflow/keras-applications/vgg19/vgg19_weights_tf_dim_ordering_tf_kernels_notop.h5\n",
            "80134624/80134624 [==============================] - 0s 0us/step\n",
            "Model: \"vgg19\"\n",
            "_________________________________________________________________\n",
            " Layer (type)                Output Shape              Param #   \n",
            "=================================================================\n",
            " input_1 (InputLayer)        [(None, 128, 128, 3)]     0         \n",
            "                                                                 \n",
            " block1_conv1 (Conv2D)       (None, 128, 128, 64)      1792      \n",
            "                                                                 \n",
            " block1_conv2 (Conv2D)       (None, 128, 128, 64)      36928     \n",
            "                                                                 \n",
            " block1_pool (MaxPooling2D)  (None, 64, 64, 64)        0         \n",
            "                                                                 \n",
            " block2_conv1 (Conv2D)       (None, 64, 64, 128)       73856     \n",
            "                                                                 \n",
            " block2_conv2 (Conv2D)       (None, 64, 64, 128)       147584    \n",
            "                                                                 \n",
            " block2_pool (MaxPooling2D)  (None, 32, 32, 128)       0         \n",
            "                                                                 \n",
            " block3_conv1 (Conv2D)       (None, 32, 32, 256)       295168    \n",
            "                                                                 \n",
            " block3_conv2 (Conv2D)       (None, 32, 32, 256)       590080    \n",
            "                                                                 \n",
            " block3_conv3 (Conv2D)       (None, 32, 32, 256)       590080    \n",
            "                                                                 \n",
            " block3_conv4 (Conv2D)       (None, 32, 32, 256)       590080    \n",
            "                                                                 \n",
            " block3_pool (MaxPooling2D)  (None, 16, 16, 256)       0         \n",
            "                                                                 \n",
            " block4_conv1 (Conv2D)       (None, 16, 16, 512)       1180160   \n",
            "                                                                 \n",
            " block4_conv2 (Conv2D)       (None, 16, 16, 512)       2359808   \n",
            "                                                                 \n",
            " block4_conv3 (Conv2D)       (None, 16, 16, 512)       2359808   \n",
            "                                                                 \n",
            " block4_conv4 (Conv2D)       (None, 16, 16, 512)       2359808   \n",
            "                                                                 \n",
            " block4_pool (MaxPooling2D)  (None, 8, 8, 512)         0         \n",
            "                                                                 \n",
            " block5_conv1 (Conv2D)       (None, 8, 8, 512)         2359808   \n",
            "                                                                 \n",
            " block5_conv2 (Conv2D)       (None, 8, 8, 512)         2359808   \n",
            "                                                                 \n",
            " block5_conv3 (Conv2D)       (None, 8, 8, 512)         2359808   \n",
            "                                                                 \n",
            " block5_conv4 (Conv2D)       (None, 8, 8, 512)         2359808   \n",
            "                                                                 \n",
            " block5_pool (MaxPooling2D)  (None, 4, 4, 512)         0         \n",
            "                                                                 \n",
            "=================================================================\n",
            "Total params: 20,024,384\n",
            "Trainable params: 0\n",
            "Non-trainable params: 20,024,384\n",
            "_________________________________________________________________\n"
          ]
        }
      ]
    },
    {
      "cell_type": "code",
      "source": [
        "m = create_content_model(model = model, layer_name = 'block2_conv2', layer_index = None)\n",
        "_,height, width, channels = m.output_shape\n",
        "calculate_gram(m.output)\n",
        "print(type(m.output))"
      ],
      "metadata": {
        "colab": {
          "base_uri": "https://localhost:8080/"
        },
        "id": "78RZIQ1feziT",
        "outputId": "1e7acb19-c3c2-4ac6-f9da-b827cd47797e"
      },
      "execution_count": 10,
      "outputs": [
        {
          "output_type": "stream",
          "name": "stdout",
          "text": [
            "(4096, 4096)\n",
            "<class 'keras.engine.keras_tensor.KerasTensor'>\n"
          ]
        }
      ]
    },
    {
      "cell_type": "code",
      "source": [
        "layer_names = ['block2_conv2', 'block3_conv2', 'block4_conv2']\n",
        "sm = create_style_model(model = model, layer_names = layer_names)\n",
        "print(sm.output_shape)\n",
        "print(type(sm.output))"
      ],
      "metadata": {
        "colab": {
          "base_uri": "https://localhost:8080/"
        },
        "id": "wuI84ExXun8F",
        "outputId": "a7e57e73-7aaa-420c-af63-16a9a22d9eb0"
      },
      "execution_count": 13,
      "outputs": [
        {
          "output_type": "stream",
          "name": "stdout",
          "text": [
            "[(None, 64, 64, 128), (None, 32, 32, 256), (None, 16, 16, 512)]\n",
            "<class 'list'>\n"
          ]
        }
      ]
    }
  ]
}